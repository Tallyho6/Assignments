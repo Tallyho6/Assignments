{
  "metadata": {
    "kernelspec": {
      "name": "python",
      "display_name": "Python (Pyodide)",
      "language": "python"
    },
    "language_info": {
      "codemirror_mode": {
        "name": "python",
        "version": 3
      },
      "file_extension": ".py",
      "mimetype": "text/x-python",
      "name": "python",
      "nbconvert_exporter": "python",
      "pygments_lexer": "ipython3",
      "version": "3.8"
    }
  },
  "nbformat_minor": 5,
  "nbformat": 4,
  "cells": [
    {
      "id": "3c67dcf7-cd79-4b4b-8c43-1978bdbd23f5",
      "cell_type": "code",
      "source": "6+6",
      "metadata": {
        "trusted": true
      },
      "outputs": [
        {
          "execution_count": 1,
          "output_type": "execute_result",
          "data": {
            "text/plain": "12"
          },
          "metadata": {}
        }
      ],
      "execution_count": 1
    },
    {
      "id": "7e30392c-3eea-426b-8934-94ab2cd8bb92",
      "cell_type": "markdown",
      "source": "# Data Science Tools and Ecosystem",
      "metadata": {}
    },
    {
      "id": "86017de2-901d-4940-a929-111c2e10cb67",
      "cell_type": "markdown",
      "source": "In this notebook, Data Science Tools and Ecosystem are summarized",
      "metadata": {}
    },
    {
      "id": "7b81a7d8-6b6d-46a9-8ea0-673dd8211040",
      "cell_type": "markdown",
      "source": "**Objectives:**\n+ commonly used libraries used by Data Scientists\n+ popular languages for data science\n+ development environment open source tools used in data science",
      "metadata": {}
    },
    {
      "id": "f7363eb7-eb30-4783-aabb-42c775b23152",
      "cell_type": "markdown",
      "source": "### Below are a few examples of evaluating arithmetic expressions in Python",
      "metadata": {}
    },
    {
      "id": "c6aeb179-1c25-49ba-9476-e16628492f73",
      "cell_type": "markdown",
      "source": "Some of the commonly used libraries used by Data Scientists include\n1. Java\n2. C++\n3. Python",
      "metadata": {}
    },
    {
      "id": "297cf253-1bfd-487c-bf6f-c3fbd43c366a",
      "cell_type": "markdown",
      "source": "In this notebook, Data Science Tools and Ecosystem are summarized",
      "metadata": {}
    },
    {
      "id": "df84af0a-20fd-4ece-92eb-313613d61cce",
      "cell_type": "markdown",
      "source": "Some of the popular languages that Data Scientists use are\n1. C++\n2. Java\n3. Python",
      "metadata": {}
    },
    {
      "id": "e317112a-630f-41b0-bd20-1ac12d933cd9",
      "cell_type": "markdown",
      "source": "Some of the commonly used libraries used by Data Scientists include:\n1. TensorFlow\n2. Keras\n3. MumPy\n",
      "metadata": {}
    },
    {
      "id": "0100aa8b-7939-4839-8da6-794cc58357f4",
      "cell_type": "markdown",
      "source": "|-|\nData Science Tools\n|-|\nJupyter Notebook\nApache Spark\nHadoop\n|-|\n    ",
      "metadata": {}
    },
    {
      "id": "2f1c96d9-6b32-47f9-b11b-e4355d6cf746",
      "cell_type": "markdown",
      "source": "|-|\nData Science Tools\n|-|\nJupyter Notebook\nApache Spark\nHadoop\n|-|",
      "metadata": {}
    },
    {
      "id": "647dbef0-4162-49f2-9344-a0ce90636a02",
      "cell_type": "markdown",
      "source": "|-|\nData Science Tools\n|-|\nJupyter Notebook\nApache Spark\nHadoop\n",
      "metadata": {}
    },
    {
      "id": "dfafa04d-0b06-412e-8a1a-23eacb903f03",
      "cell_type": "markdown",
      "source": "Data Science Tools\n|-|\nJupyter Notebook\nApache Spark\nHadoop\n|-|\n",
      "metadata": {}
    },
    {
      "id": "4b31bb51-5404-4ac4-9a2d-2d9ae4005e6f",
      "cell_type": "markdown",
      "source": "### Below are a few examples of evaluating arithmetic expressions in Python\n",
      "metadata": {}
    },
    {
      "id": "c71cc16c-002d-4e81-864e-5ced9a259230",
      "cell_type": "code",
      "source": "# This a simple arithmetic expression to mutiply then add integers\n(3*4)+5",
      "metadata": {
        "trusted": true,
        "scrolled": true
      },
      "outputs": [
        {
          "execution_count": 4,
          "output_type": "execute_result",
          "data": {
            "text/plain": "17"
          },
          "metadata": {}
        }
      ],
      "execution_count": 4
    },
    {
      "id": "b7312816-afdf-48d9-9c55-536a08084756",
      "cell_type": "code",
      "source": "# This will convert 200 minutes to hours by diving by 60\n200/60",
      "metadata": {
        "trusted": true,
        "scrolled": true
      },
      "outputs": [
        {
          "execution_count": 5,
          "output_type": "execute_result",
          "data": {
            "text/plain": "3.3333333333333335"
          },
          "metadata": {}
        }
      ],
      "execution_count": 5
    },
    {
      "id": "bb9e81af-5e5d-4d5a-8ed6-f8b7f2ccea75",
      "cell_type": "markdown",
      "source": "## Author\nAbe Dorph",
      "metadata": {}
    },
    {
      "id": "1d68f893-e761-4278-bdd3-6fc3dfd3c054",
      "cell_type": "code",
      "source": "",
      "metadata": {
        "trusted": true
      },
      "outputs": [],
      "execution_count": null
    }
  ]
}